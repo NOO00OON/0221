{
 "cells": [
  {
   "cell_type": "code",
   "execution_count": 1,
   "id": "48e7d439",
   "metadata": {},
   "outputs": [
    {
     "name": "stdout",
     "output_type": "stream",
     "text": [
      "hello world\n"
     ]
    }
   ],
   "source": [
    "print('hello world')"
   ]
  },
  {
   "cell_type": "code",
   "execution_count": 6,
   "id": "092ee3da",
   "metadata": {},
   "outputs": [
    {
     "name": "stdout",
     "output_type": "stream",
     "text": [
      "Name :NNN\n",
      "NNN\n"
     ]
    }
   ],
   "source": [
    "name = input(\"Name :\")\n",
    "print(name)"
   ]
  },
  {
   "cell_type": "code",
   "execution_count": null,
   "id": "74fb2833",
   "metadata": {},
   "outputs": [],
   "source": []
  },
  {
   "cell_type": "code",
   "execution_count": 7,
   "id": "8e7da75d",
   "metadata": {},
   "outputs": [],
   "source": [
    "num1 = 50\n",
    "num2 = 100"
   ]
  },
  {
   "cell_type": "code",
   "execution_count": 9,
   "id": "e6a5acc5",
   "metadata": {},
   "outputs": [
    {
     "name": "stdout",
     "output_type": "stream",
     "text": [
      "50 + 100 = 150\n",
      "50 - 100 = -50\n",
      "50 * 100 = 5000\n",
      "50 / 100 = 0.5\n",
      "50 // 100 = 0\n",
      "50 % 100 = 50\n"
     ]
    }
   ],
   "source": [
    "print(num1, \"+\", num2,'=',num1 + num2)\n",
    "print(num1, \"-\", num2,'=',num1 - num2)\n",
    "print(num1, \"*\", num2,'=',num1 * num2)\n",
    "print(num1, \"/\", num2,'=',num1 / num2)\n",
    "print(num1, \"//\", num2,'=',num1 // num2)\n",
    "print(num1, \"%\", num2,'=',num1 % num2)"
   ]
  },
  {
   "cell_type": "code",
   "execution_count": 16,
   "id": "892e2a01",
   "metadata": {},
   "outputs": [
    {
     "name": "stdout",
     "output_type": "stream",
     "text": [
      "사각형의 가로 : 20\n",
      "사각형의 세로 : 30\n",
      "사각형의 넓이 : 600\n"
     ]
    }
   ],
   "source": [
    "width = int(input('사각형의 가로 : '))\n",
    "height = int(input('사각형의 세로 : '))\n",
    "print('사각형의 넓이 : %d'% (width * height))"
   ]
  },
  {
   "cell_type": "code",
   "execution_count": null,
   "id": "16242223",
   "metadata": {},
   "outputs": [],
   "source": []
  }
 ],
 "metadata": {
  "kernelspec": {
   "display_name": "Python 3 (ipykernel)",
   "language": "python",
   "name": "python3"
  },
  "language_info": {
   "codemirror_mode": {
    "name": "ipython",
    "version": 3
   },
   "file_extension": ".py",
   "mimetype": "text/x-python",
   "name": "python",
   "nbconvert_exporter": "python",
   "pygments_lexer": "ipython3",
   "version": "3.10.6"
  }
 },
 "nbformat": 4,
 "nbformat_minor": 5
}
